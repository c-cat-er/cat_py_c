{
 "cells": [
  {
   "cell_type": "code",
   "execution_count": null,
   "metadata": {},
   "outputs": [],
   "source": [
    "# 場景：蝕刻製程中，對三個參數（溫度、壓力、氣體流量）進行全面測試，以了解每個參數對蝕刻速率的影響。\n",
    "# 通過以下 ANOVA 表，我們可以觀察各個因子及其交互作用的p-value，這可以幫助我們了解哪些參數顯著影響蝕刻速率。\n",
    "# 選用方法：全因子實驗設計\n",
    "# 使用模組\n",
    "   # pyDOE2：生成全因子實驗設計\n",
    "   # pandas：資料處理和儲存\n",
    "   # statsmodels.api：分析結果\n",
    "\n",
    "# 1. 安裝所需模組\n",
    "#!pip install pyDOE2 pandas statsmodels\n"
   ]
  },
  {
   "cell_type": "code",
   "execution_count": null,
   "metadata": {},
   "outputs": [],
   "source": [
    "# 2. 設定參數水準並生成實驗設計\n",
    "# 定義三個變數：溫度（Temperature）、壓力（Pressure）、氣體流量（Gas Flow）。\n",
    "# 每個變數有兩個水準（例如，低和高）。\n",
    "\n",
    "import pandas as pd\n",
    "from pyDOE2 import fullfact\n",
    "\n",
    "# 定義參數水準，1代表低水準，2代表高水準\n",
    "levels = [2, 2, 2]  # 溫度、壓力、氣體流量\n",
    "experiment_design = fullfact(levels)\n",
    "\n",
    "# 將數值轉換為具體的水準值，例如低和高的實際數值\n",
    "temperature_levels = [150, 250]  # 溫度範圍\n",
    "pressure_levels = [0.5, 1.0]  # 壓力範圍\n",
    "gas_flow_levels = [20, 40]  # 氣體流量範圍\n",
    "\n",
    "# 將數值轉換為具體的設定值\n",
    "design_df = pd.DataFrame(experiment_design, columns=[\"Temperature\", \"Pressure\", \"Gas Flow\"])\n",
    "design_df[\"Temperature\"] = design_df[\"Temperature\"].replace([0, 1], temperature_levels)\n",
    "design_df[\"Pressure\"] = design_df[\"Pressure\"].replace([0, 1], pressure_levels)\n",
    "design_df[\"Gas Flow\"] = design_df[\"Gas Flow\"].replace([0, 1], gas_flow_levels)\n",
    "\n",
    "# 顯示實驗設計\n",
    "print(\"實驗設計表：\")\n",
    "design_df\n"
   ]
  },
  {
   "cell_type": "code",
   "execution_count": null,
   "metadata": {},
   "outputs": [],
   "source": [
    "# 3. 添加響應變數（蝕刻速率）\n",
    "# 在真實情境中，這些響應數據會來自於實驗結果。\n",
    "# 在這裡，我們假設一組蝕刻速率數據，以模擬實際情況。\n",
    "\n",
    "import numpy as np\n",
    "\n",
    "# 假設性蝕刻速率數據\n",
    "np.random.seed(0)  # 為了重現性，設定隨機種子\n",
    "etch_rate = np.random.normal(50, 5, size=len(design_df))  # 模擬響應數據\n",
    "\n",
    "# 添加響應變數到資料框\n",
    "design_df[\"Etch Rate\"] = etch_rate\n",
    "\n",
    "# 顯示完整的實驗設計表\n",
    "print(\"完整的實驗設計與響應數據：\")\n",
    "design_df\n"
   ]
  },
  {
   "cell_type": "code",
   "execution_count": null,
   "metadata": {},
   "outputs": [],
   "source": [
    "# 4. 分析結果（ANOVA 分析）\n",
    "# 使用statsmodels進行變異數分析（ANOVA），以確認哪些因素顯著影響蝕刻速率。\n",
    "\n",
    "import statsmodels.api as sm\n",
    "from statsmodels.formula.api import ols\n",
    "\n",
    "# 使用公式格式進行回歸分析\n",
    "model = ols(\"Q('Etch Rate') ~ C(Temperature) * C(Pressure) * C(Q('Gas Flow'))\", data=design_df).fit()\n",
    "anova_table = sm.stats.anova_lm(model, typ=2)\n",
    "\n",
    "# 顯示ANOVA表\n",
    "print(\"ANOVA 分析結果：\")\n",
    "anova_table\n"
   ]
  }
 ],
 "metadata": {
  "language_info": {
   "name": "python"
  }
 },
 "nbformat": 4,
 "nbformat_minor": 2
}
