{
 "cells": [
  {
   "cell_type": "code",
   "execution_count": 5,
   "metadata": {},
   "outputs": [
    {
     "name": "stdout",
     "output_type": "stream",
     "text": [
      "田口方法的正交表設計：\n"
     ]
    },
    {
     "data": {
      "text/html": [
       "<div>\n",
       "<style scoped>\n",
       "    .dataframe tbody tr th:only-of-type {\n",
       "        vertical-align: middle;\n",
       "    }\n",
       "\n",
       "    .dataframe tbody tr th {\n",
       "        vertical-align: top;\n",
       "    }\n",
       "\n",
       "    .dataframe thead th {\n",
       "        text-align: right;\n",
       "    }\n",
       "</style>\n",
       "<table border=\"1\" class=\"dataframe\">\n",
       "  <thead>\n",
       "    <tr style=\"text-align: right;\">\n",
       "      <th></th>\n",
       "      <th>Ion Concentration</th>\n",
       "      <th>Voltage</th>\n",
       "      <th>Temperature</th>\n",
       "    </tr>\n",
       "  </thead>\n",
       "  <tbody>\n",
       "    <tr>\n",
       "      <th>0</th>\n",
       "      <td>10</td>\n",
       "      <td>200</td>\n",
       "      <td>25</td>\n",
       "    </tr>\n",
       "    <tr>\n",
       "      <th>1</th>\n",
       "      <td>10</td>\n",
       "      <td>400</td>\n",
       "      <td>50</td>\n",
       "    </tr>\n",
       "    <tr>\n",
       "      <th>2</th>\n",
       "      <td>20</td>\n",
       "      <td>200</td>\n",
       "      <td>50</td>\n",
       "    </tr>\n",
       "    <tr>\n",
       "      <th>3</th>\n",
       "      <td>20</td>\n",
       "      <td>400</td>\n",
       "      <td>25</td>\n",
       "    </tr>\n",
       "  </tbody>\n",
       "</table>\n",
       "</div>"
      ],
      "text/plain": [
       "   Ion Concentration  Voltage  Temperature\n",
       "0                 10      200           25\n",
       "1                 10      400           50\n",
       "2                 20      200           50\n",
       "3                 20      400           25"
      ]
     },
     "execution_count": 5,
     "metadata": {},
     "output_type": "execute_result"
    }
   ],
   "source": [
    "# 場景：在離子植入製程中設計穩健參數，以減少對環境變異的敏感性。\n",
    "# 選用方法：田口方法\n",
    "# 使用模組\n",
    "   # pandas：處理正交表\n",
    "   # numpy：產生響應值\n",
    "\n",
    "# 1. 建立正交表\n",
    "\n",
    "import pandas as pd\n",
    "\n",
    "# 正交表L4(2^3)，三個因素，每個因素兩個水準\n",
    "orthogonal_array = np.array([ ##\n",
    "    [1, 1, 1],\n",
    "    [1, 2, 2],\n",
    "    [2, 1, 2],\n",
    "    [2, 2, 1]\n",
    "])\n",
    "\n",
    "# 設定具體因子水準\n",
    "factors = pd.DataFrame(orthogonal_array, columns=[\"Ion Concentration\", \"Voltage\", \"Temperature\"])\n",
    "factors[\"Ion Concentration\"] = factors[\"Ion Concentration\"].replace([1, 2], [10, 20])  # 離子濃度 ##\n",
    "factors[\"Voltage\"] = factors[\"Voltage\"].replace([1, 2], [200, 400])  # 電壓\n",
    "factors[\"Temperature\"] = factors[\"Temperature\"].replace([1, 2], [25, 50])  # 溫度\n",
    "\n",
    "print(\"田口方法的正交表設計：\")\n",
    "factors\n"
   ]
  },
  {
   "cell_type": "code",
   "execution_count": 6,
   "metadata": {},
   "outputs": [
    {
     "name": "stdout",
     "output_type": "stream",
     "text": [
      "正交實驗設計結果：\n",
      "   Ion Concentration  Voltage  Temperature  Uniformity\n",
      "0                 10      200           25    5.894314\n",
      "1                 10      400           50    5.218255\n",
      "2                 20      200           50    5.048249\n",
      "3                 20      400           25    4.068254\n"
     ]
    }
   ],
   "source": [
    "# 2. 假設性響應數據（植入均勻性）\n",
    "\n",
    "import numpy as np\n",
    "\n",
    "# 設定隨機數生成器的種子為 3。這意味著每次運行這段程式碼時，隨機數的生成結果將保持一致（即可重現結果），這有助於確保實驗結果的可重複性。\n",
    "np.random.seed(3)\n",
    "# 模擬植入均勻性，生成正態分佈的隨機數\n",
    "   # 5 是均值（mean），表示數據的中心位置。\n",
    "   # 0.5 是標準差（std），表示數據的離散程度（即波動範圍）。\n",
    "   # size=len(factors) 指定生成的隨機數量等於 factors DataFrame 的行數，也就是每個批次都會有一個模擬的植入均勻性數值。\n",
    "uniformity = np.random.normal(5, 0.5, size=len(factors))\n",
    "factors[\"Uniformity\"] = uniformity\n",
    "print(\"正交實驗設計結果：\")\n",
    "print(factors)"
   ]
  },
  {
   "cell_type": "code",
   "execution_count": 7,
   "metadata": {},
   "outputs": [
    {
     "name": "stdout",
     "output_type": "stream",
     "text": [
      "因素水準影響：\n"
     ]
    },
    {
     "data": {
      "text/html": [
       "<div>\n",
       "<style scoped>\n",
       "    .dataframe tbody tr th:only-of-type {\n",
       "        vertical-align: middle;\n",
       "    }\n",
       "\n",
       "    .dataframe tbody tr th {\n",
       "        vertical-align: top;\n",
       "    }\n",
       "\n",
       "    .dataframe thead th {\n",
       "        text-align: right;\n",
       "    }\n",
       "</style>\n",
       "<table border=\"1\" class=\"dataframe\">\n",
       "  <thead>\n",
       "    <tr style=\"text-align: right;\">\n",
       "      <th></th>\n",
       "      <th></th>\n",
       "      <th></th>\n",
       "      <th>Uniformity</th>\n",
       "    </tr>\n",
       "    <tr>\n",
       "      <th>Ion Concentration</th>\n",
       "      <th>Voltage</th>\n",
       "      <th>Temperature</th>\n",
       "      <th></th>\n",
       "    </tr>\n",
       "  </thead>\n",
       "  <tbody>\n",
       "    <tr>\n",
       "      <th rowspan=\"2\" valign=\"top\">10</th>\n",
       "      <th>200</th>\n",
       "      <th>25</th>\n",
       "      <td>5.894314</td>\n",
       "    </tr>\n",
       "    <tr>\n",
       "      <th>400</th>\n",
       "      <th>50</th>\n",
       "      <td>5.218255</td>\n",
       "    </tr>\n",
       "    <tr>\n",
       "      <th rowspan=\"2\" valign=\"top\">20</th>\n",
       "      <th>200</th>\n",
       "      <th>50</th>\n",
       "      <td>5.048249</td>\n",
       "    </tr>\n",
       "    <tr>\n",
       "      <th>400</th>\n",
       "      <th>25</th>\n",
       "      <td>4.068254</td>\n",
       "    </tr>\n",
       "  </tbody>\n",
       "</table>\n",
       "</div>"
      ],
      "text/plain": [
       "                                       Uniformity\n",
       "Ion Concentration Voltage Temperature            \n",
       "10                200     25             5.894314\n",
       "                  400     50             5.218255\n",
       "20                200     50             5.048249\n",
       "                  400     25             4.068254"
      ]
     },
     "execution_count": 7,
     "metadata": {},
     "output_type": "execute_result"
    }
   ],
   "source": [
    "# 3. 結果分析\n",
    "\n",
    "# 分析每個因素的平均影響\n",
    "mean_values = factors.groupby([\"Ion Concentration\", \"Voltage\", \"Temperature\"]).mean()\n",
    "print(\"因素水準影響：\")\n",
    "mean_values\n"
   ]
  }
 ],
 "metadata": {
  "kernelspec": {
   "display_name": "Python 3",
   "language": "python",
   "name": "python3"
  },
  "language_info": {
   "codemirror_mode": {
    "name": "ipython",
    "version": 3
   },
   "file_extension": ".py",
   "mimetype": "text/x-python",
   "name": "python",
   "nbconvert_exporter": "python",
   "pygments_lexer": "ipython3",
   "version": "3.11.2"
  }
 },
 "nbformat": 4,
 "nbformat_minor": 2
}
