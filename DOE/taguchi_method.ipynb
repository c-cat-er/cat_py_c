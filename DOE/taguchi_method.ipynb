{
 "cells": [
  {
   "cell_type": "code",
   "execution_count": null,
   "metadata": {},
   "outputs": [],
   "source": [
    "# 場景：在離子植入製程中設計穩健參數，以減少對環境變異的敏感性。\n",
    "# 選用方法：田口方法\n",
    "# 使用模組\n",
    "   # pandas：處理正交表\n",
    "   # numpy：產生響應值\n",
    "\n",
    "# 1. 建立正交表\n",
    "# 正交表L4(2^3)，三個因素，每個因素兩個水準\n",
    "orthogonal_array = np.array([\n",
    "    [1, 1, 1],\n",
    "    [1, 2, 2],\n",
    "    [2, 1, 2],\n",
    "    [2, 2, 1]\n",
    "])\n",
    "\n",
    "# 設定具體因子水準\n",
    "factors = pd.DataFrame(orthogonal_array, columns=[\"Ion Concentration\", \"Voltage\", \"Temperature\"])\n",
    "factors[\"Ion Concentration\"] = factors[\"Ion Concentration\"].replace([1, 2], [10, 20])  # 離子濃度\n",
    "factors[\"Voltage\"] = factors[\"Voltage\"].replace([1, 2], [200, 400])  # 電壓\n",
    "factors[\"Temperature\"] = factors[\"Temperature\"].replace([1, 2], [25, 50])  # 溫度\n",
    "\n",
    "print(\"田口方法的正交表設計：\")\n",
    "factors\n"
   ]
  },
  {
   "cell_type": "code",
   "execution_count": null,
   "metadata": {},
   "outputs": [],
   "source": [
    "# 2. 假設性響應數據（植入均勻性）\n",
    "\n",
    "np.random.seed(3)\n",
    "uniformity = np.random.normal(5, 0.5, size=len(factors))  # 模擬植入均勻性\n",
    "factors[\"Uniformity\"] = uniformity\n"
   ]
  },
  {
   "cell_type": "code",
   "execution_count": null,
   "metadata": {},
   "outputs": [],
   "source": [
    "# 3. 結果分析\n",
    "\n",
    "print(\"正交實驗設計結果：\")\n",
    "print(factors)\n",
    "\n",
    "# 分析每個因素的平均影響\n",
    "mean_values = factors.groupby([\"Ion Concentration\", \"Voltage\", \"Temperature\"]).mean()\n",
    "print(\"因素水準影響：\")\n",
    "mean_values\n"
   ]
  }
 ],
 "metadata": {
  "language_info": {
   "name": "python"
  }
 },
 "nbformat": 4,
 "nbformat_minor": 2
}
