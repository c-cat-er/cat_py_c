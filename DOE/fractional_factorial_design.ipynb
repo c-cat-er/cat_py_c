{
 "cells": [
  {
   "cell_type": "code",
   "execution_count": null,
   "metadata": {},
   "outputs": [],
   "source": [
    "# 場景：在光刻製程中，測試多個參數（如曝光時間、焦距、溫度等）以篩選出主要影響因子。\n",
    "# 選用方法：部分因子實驗設計\n",
    "# 使用模組\n",
    "   # pyDOE2：生成部分因子實驗設計\n",
    "   # pandas：資料處理\n",
    "   # statsmodels.api：進行分析\n",
    "\n",
    "# 1. 設定參數水準並生成部分因子設計\n",
    "\n",
    "import pandas as pd\n",
    "from pyDOE2 import ff2n\n",
    "\n",
    "# 假設我們有4個變數（曝光時間、焦距、溫度、濕度），每個變數2個水準（高/低）\n",
    "design_matrix = ff2n(4)  # 4個變數的部分因子設計\n",
    "\n",
    "# 轉換成資料框\n",
    "design_df = pd.DataFrame(design_matrix, columns=[\"Exposure Time\", \"Focus\", \"Temperature\", \"Humidity\"])\n",
    "# 設定具體的水準值\n",
    "design_df[\"Exposure Time\"] = design_df[\"Exposure Time\"].replace([-1, 1], [5, 10])  # 曝光時間\n",
    "design_df[\"Focus\"] = design_df[\"Focus\"].replace([-1, 1], [0.8, 1.2])  # 焦距\n",
    "design_df[\"Temperature\"] = design_df[\"Temperature\"].replace([-1, 1], [20, 30])  # 溫度\n",
    "design_df[\"Humidity\"] = design_df[\"Humidity\"].replace([-1, 1], [40, 60])  # 濕度\n",
    "\n",
    "print(\"部分因子實驗設計：\")\n",
    "design_df\n"
   ]
  },
  {
   "cell_type": "code",
   "execution_count": null,
   "metadata": {},
   "outputs": [],
   "source": [
    "# 2. 添加假設響應變數（解析度）\n",
    "\n",
    "import numpy as np\n",
    "np.random.seed(1)\n",
    "resolution = np.random.normal(0.5, 0.05, size=len(design_df))  # 假設解析度數據\n",
    "design_df[\"Resolution\"] = resolution\n"
   ]
  },
  {
   "cell_type": "code",
   "execution_count": null,
   "metadata": {},
   "outputs": [],
   "source": [
    "# 3. 分析結果（ANOVA 分析）\n",
    "\n",
    "import statsmodels.api as sm\n",
    "from statsmodels.formula.api import ols\n",
    "\n",
    "# 使用公式格式進行回歸分析\n",
    "model = ols(\"Resolution ~ C(Exposure Time) * C(Focus) * C(Temperature) * C(Humidity)\", data=design_df).fit()\n",
    "anova_table = sm.stats.anova_lm(model, typ=2)\n",
    "\n",
    "print(\"ANOVA 分析結果：\")\n",
    "anova_table\n"
   ]
  }
 ],
 "metadata": {
  "kernelspec": {
   "display_name": "Python 3",
   "language": "python",
   "name": "python3"
  },
  "language_info": {
   "codemirror_mode": {
    "name": "ipython",
    "version": 3
   },
   "file_extension": ".py",
   "mimetype": "text/x-python",
   "name": "python",
   "nbconvert_exporter": "python",
   "pygments_lexer": "ipython3",
   "version": "3.11.2"
  }
 },
 "nbformat": 4,
 "nbformat_minor": 2
}
