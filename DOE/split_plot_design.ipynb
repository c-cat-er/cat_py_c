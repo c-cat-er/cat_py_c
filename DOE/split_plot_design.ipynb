{
 "cells": [
  {
   "cell_type": "code",
   "execution_count": null,
   "metadata": {},
   "outputs": [],
   "source": [
    "# 場景：在清洗製程中，將製程分為不同批次進行測試。批次作為主要因子，其餘參數（例如溫度和清洗時間）為次要因子。\n",
    "# 選用方法：裂區設計\n",
    "# 使用模組\n",
    "   # pandas：處理裂區設計\n",
    "   # statsmodels.api：分析結果\n",
    "\n",
    "# 1. 設定裂區設計矩陣\n",
    "\n",
    "# 假設主因子為批次，次要因子為溫度和清洗時間\n",
    "design_matrix = pd.DataFrame({\n",
    "    \"Batch\": [\"Batch 1\", \"Batch 1\", \"Batch 2\", \"Batch 2\"],\n",
    "    \"Temperature\": [40, 50, 40, 50],\n",
    "    \"Cleaning Time\": [10, 20, 10, 20]\n",
    "})\n",
    "print(\"裂區設計矩陣：\")\n",
    "design_matrix\n"
   ]
  },
  {
   "cell_type": "code",
   "execution_count": null,
   "metadata": {},
   "outputs": [],
   "source": [
    "# 2. 假設響應變數（清洗效果）\n",
    "\n",
    "np.random.seed(6)\n",
    "cleaning_effectiveness = np.random.normal(85, 5, size=len(design_matrix))  # 模擬清洗效果\n",
    "design_matrix[\"Cleaning Effectiveness\"] = cleaning_effectiveness\n"
   ]
  },
  {
   "cell_type": "code",
   "execution_count": null,
   "metadata": {},
   "outputs": [],
   "source": [
    "# 3. 分析結果（ANOVA 分析）\n",
    "\n",
    "import statsmodels.api as sm\n",
    "from statsmodels.formula.api import ols\n",
    "\n",
    "# 使用公式進行回歸分析\n",
    "model = ols(\"Q('Cleaning Effectiveness') ~ C(Batch) * C(Temperature) * C(Q('Cleaning Time'))\", data=design_matrix).fit()\n",
    "anova_table = sm.stats.anova_lm(model, typ=2)\n",
    "\n",
    "print(\"裂區設計ANOVA結果：\")\n",
    "anova_table\n"
   ]
  }
 ],
 "metadata": {
  "language_info": {
   "name": "python"
  }
 },
 "nbformat": 4,
 "nbformat_minor": 2
}
