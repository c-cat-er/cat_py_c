{
 "cells": [
  {
   "cell_type": "code",
   "execution_count": null,
   "metadata": {},
   "outputs": [],
   "source": [
    "# 場景：蝕刻製程中，研究三個影響因素：設備批次、氣體種類、蝕刻時間，避免交互干擾。\n",
    "# 選用方法：拉丁方設計\n",
    "# 使用模組\n",
    "   # pandas：處理拉丁方設計\n",
    "   # numpy：生成響應數據\n",
    "\n",
    "# 1. 建立拉丁方設計\n",
    "\n",
    "# 定義拉丁方設計矩陣（3個因子，每個因子3個水準）\n",
    "latin_square = [\n",
    "    [1, 2, 3],\n",
    "    [2, 3, 1],\n",
    "    [3, 1, 2]\n",
    "]\n",
    "\n",
    "# 轉換為DataFrame，並設定水準\n",
    "factors_df = pd.DataFrame(latin_square, columns=[\"Batch\", \"Gas Type\", \"Etching Time\"])\n",
    "factors_df[\"Batch\"] = factors_df[\"Batch\"].replace([1, 2, 3], [\"Batch A\", \"Batch B\", \"Batch C\"])\n",
    "factors_df[\"Gas Type\"] = factors_df[\"Gas Type\"].replace([1, 2, 3], [\"O2\", \"N2\", \"Ar\"])\n",
    "factors_df[\"Etching Time\"] = factors_df[\"Etching Time\"].replace([1, 2, 3], [10, 15, 20])\n",
    "\n",
    "print(\"拉丁方設計：\")\n",
    "factors_df\n"
   ]
  },
  {
   "cell_type": "code",
   "execution_count": null,
   "metadata": {},
   "outputs": [],
   "source": [
    "# 2. 假設響應變數（蝕刻深度）\n",
    "\n",
    "np.random.seed(5)\n",
    "etch_depth = np.random.normal(200, 15, size=len(factors_df))  # 模擬蝕刻深度\n",
    "factors_df[\"Etch Depth\"] = etch_depth\n"
   ]
  },
  {
   "cell_type": "code",
   "execution_count": null,
   "metadata": {},
   "outputs": [],
   "source": [
    "# 3. 分析結果（平均值分析）\n",
    "\n",
    "mean_values = factors_df.groupby([\"Batch\", \"Gas Type\", \"Etching Time\"]).mean()\n",
    "print(\"拉丁方設計結果平均值：\")\n",
    "mean_values\n"
   ]
  }
 ],
 "metadata": {
  "language_info": {
   "name": "python"
  }
 },
 "nbformat": 4,
 "nbformat_minor": 2
}
