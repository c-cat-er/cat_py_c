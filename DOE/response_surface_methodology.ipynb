{
 "cells": [
  {
   "cell_type": "code",
   "execution_count": null,
   "metadata": {},
   "outputs": [],
   "source": [
    "# 場景：在CVD製程中，優化氣體流量、溫度及壓力以達到理想膜層厚度。\n",
    "# 選用方法：反應曲面法\n",
    "# 使用模組\n",
    "   # pyDOE2：生成中央合成設計\n",
    "   # scipy.optimize：進行優化\n",
    "   # statsmodels.api：分析模型\n",
    "\n",
    "# 1. 生成中央合成設計\n",
    "\n",
    "from pyDOE2 import ccdesign\n",
    "\n",
    "# 定義三個變數\n",
    "rsm_design = ccdesign(3, center=(2,))  # 3因子的中央合成設計\n",
    "\n",
    "# 轉換成資料框\n",
    "design_df = pd.DataFrame(rsm_design, columns=[\"Gas Flow\", \"Temperature\", \"Pressure\"])\n",
    "design_df[\"Gas Flow\"] = design_df[\"Gas Flow\"] * 10 + 30  # 假設範圍30-50\n",
    "design_df[\"Temperature\"] = design_df[\"Temperature\"] * 10 + 250  # 假設範圍240-260\n",
    "design_df[\"Pressure\"] = design_df[\"Pressure\"] * 0.1 + 0.8  # 假設範圍0.7-0.9\n",
    "\n",
    "print(\"反應曲面設計：\")\n",
    "design_df\n"
   ]
  },
  {
   "cell_type": "code",
   "execution_count": null,
   "metadata": {},
   "outputs": [],
   "source": [
    "# 2. 添加假設響應變數（膜層厚度）\n",
    "\n",
    "np.random.seed(2)\n",
    "thickness = np.random.normal(300, 10, size=len(design_df))  # 假設膜厚數據\n",
    "design_df[\"Thickness\"] = thickness\n"
   ]
  },
  {
   "cell_type": "code",
   "execution_count": null,
   "metadata": {},
   "outputs": [],
   "source": [
    "# 3. 模型建立與優化\n",
    "\n",
    "model = ols(\"Thickness ~ Gas Flow + Temperature + Pressure + I(Gas Flow**2) + I(Temperature**2) + I(Pressure**2) + Gas Flow:Temperature + Gas Flow:Pressure + Temperature:Pressure\", data=design_df).fit()\n",
    "print(\"回歸模型：\")\n",
    "print(model.summary())\n"
   ]
  }
 ],
 "metadata": {
  "language_info": {
   "name": "python"
  }
 },
 "nbformat": 4,
 "nbformat_minor": 2
}
