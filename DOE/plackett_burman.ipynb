{
 "cells": [
  {
   "cell_type": "code",
   "execution_count": null,
   "metadata": {},
   "outputs": [],
   "source": [
    "# 場景：在薄膜沉積製程中，篩選多個變數（例如氣體種類、壓力、電場強度等），找出主要影響因素。\n",
    "# 選用方法：Plackett-Burman 設計\n",
    "# 使用模組\n",
    "   # pyDOE2：生成 Plackett-Burman 設計\n",
    "   # pandas：資料處理\n",
    "   # statsmodels.api：分析結果\n",
    "\n",
    "# 1. 設定變數並生成 Plackett-Burman 設計\n",
    "\n",
    "import pandas as pd\n",
    "from pyDOE2 import pbdesign\n",
    "\n",
    "# 設定5個變數的設計矩陣\n",
    "num_factors = 5\n",
    "design_matrix = pbdesign(num_factors)\n",
    "\n",
    "# 將設計矩陣轉換為資料框\n",
    "design_df = pd.DataFrame(design_matrix, columns=[\"Gas Type\", \"Pressure\", \"Electric Field\", \"Flow Rate\", \"Temperature\"])\n",
    "print(\"Plackett-Burman 設計矩陣：\")\n",
    "design_df\n"
   ]
  },
  {
   "cell_type": "code",
   "execution_count": null,
   "metadata": {},
   "outputs": [],
   "source": [
    "# 2. 假設響應變數（膜層均勻性）\n",
    "\n",
    "import numpy as np\n",
    "np.random.seed(4)\n",
    "uniformity = np.random.normal(90, 5, size=len(design_df))  # 模擬膜層均勻性\n",
    "design_df[\"Uniformity\"] = uniformity\n"
   ]
  },
  {
   "cell_type": "code",
   "execution_count": null,
   "metadata": {},
   "outputs": [],
   "source": [
    "# 3. 分析結果（ANOVA 分析）\n",
    "\n",
    "import statsmodels.api as sm\n",
    "from statsmodels.formula.api import ols\n",
    "\n",
    "# 設置公式進行回歸分析\n",
    "model = ols(\"Uniformity ~ C(Gas Type) + C(Pressure) + C(Electric Field) + C(Flow Rate) + C(Temperature)\", data=design_df).fit()\n",
    "anova_table = sm.stats.anova_lm(model, typ=2)\n",
    "\n",
    "print(\"ANOVA 分析結果：\")\n",
    "anova_table\n"
   ]
  }
 ],
 "metadata": {
  "kernelspec": {
   "display_name": "Python 3",
   "language": "python",
   "name": "python3"
  },
  "language_info": {
   "codemirror_mode": {
    "name": "ipython",
    "version": 3
   },
   "file_extension": ".py",
   "mimetype": "text/x-python",
   "name": "python",
   "nbconvert_exporter": "python",
   "pygments_lexer": "ipython3",
   "version": "3.11.2"
  }
 },
 "nbformat": 4,
 "nbformat_minor": 2
}
