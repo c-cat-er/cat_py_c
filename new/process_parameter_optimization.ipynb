{
 "cells": [
  {
   "cell_type": "code",
   "execution_count": null,
   "metadata": {},
   "outputs": [],
   "source": [
    "# 題：製程參數優化\n",
    "# 1. 定義目標函數\n",
    "# 我們希望最大化的生產速率函數，並以此作為優化目標。假設此函數取決於溫度 (x[0]) 和壓力 (x[1]) 參數。\n",
    "\n",
    "import numpy as np\n",
    "\n",
    "# 定義生產速率函數\n",
    "def production_rate(x):\n",
    "    # x[0]: 運行溫度, x[1]: 壓力\n",
    "    return -(2*x[0] * np.log(x[1]) - 0.01 * x[0]**2)\n"
   ]
  },
  {
   "cell_type": "code",
   "execution_count": null,
   "metadata": {},
   "outputs": [],
   "source": [
    "# 2. 設定限制條件\n",
    "# 定義溫度和壓力的範圍，將其設定為約束條件。\n",
    "\n",
    "from scipy.optimize import minimize\n",
    "\n",
    "# 限制條件（如溫度範圍和壓力範圍）\n",
    "constraints = (\n",
    "    {'type': 'ineq', 'fun': lambda x: x[0] - 200},  # 溫度下限\n",
    "    {'type': 'ineq', 'fun': lambda x: 300 - x[0]},  # 溫度上限\n",
    "    {'type': 'ineq', 'fun': lambda x: x[1] - 1},    # 壓力下限\n",
    "    {'type': 'ineq', 'fun': lambda x: 10 - x[1]}    # 壓力上限\n",
    ")\n",
    "# ineq 用於告訴優化器，我們設置了一個「不等式約束」，其條件是某些表達式的值必須 大於或等於 0。\n",
    "# fun 是用來定義不等式條件的函數。x[0] - 200 >= 0，即 x[0] >= 200。\n"
   ]
  },
  {
   "cell_type": "code",
   "execution_count": null,
   "metadata": {},
   "outputs": [],
   "source": [
    "# 3. 設置初始值並執行優化\n",
    "# 用 minimize 函數進行優化，尋找最佳的溫度和壓力組合以達到最大生產速率。\n",
    "\n",
    "# 初始值設定\n",
    "initial_values = [250, 5]  # 假設溫度 250, 壓力 5\n",
    "\n",
    "# 使用 SciPy 的 minimize 進行優化\n",
    "result = minimize(production_rate, initial_values, constraints=constraints) ##\n",
    "# minimize 預設會自動選擇適當的算法，最終找到一組參數組合，使目標函數值達到最低，並且符合設定的約束條件。\n",
    "\n",
    "# 結果輸出\n",
    "print(\"最佳溫度:\", result.x[0])\n",
    "print(\"最佳壓力:\", result.x[1])\n",
    "print(\"最大化生產速率:\", -result.fun)\n"
   ]
  }
 ],
 "metadata": {
  "language_info": {
   "name": "python"
  }
 },
 "nbformat": 4,
 "nbformat_minor": 2
}
