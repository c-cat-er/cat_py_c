{
 "cells": [
  {
   "cell_type": "code",
   "execution_count": null,
   "metadata": {},
   "outputs": [],
   "source": [
    "# 題：生產參數優化\n",
    "# 使用 Scikit-Learn 的回歸模型來分析不同工藝參數組合對生產的影響，並找到最佳的參數組合。\n",
    "# 1. 數據準備\n",
    "# 使用 Pandas 將數據導入，並準備特徵和目標變數。\n",
    "\n",
    "import pandas as pd\n",
    "from sklearn.model_selection import train_test_split\n",
    "\n",
    "# 加載數據\n",
    "data = pd.read_csv('production_parameters.csv')\n",
    "\n",
    "# 假設 'param1', 'param2', 'param3' 是工藝參數，'yield' 是目標良率\n",
    "X = data[['param1', 'param2', 'param3']]\n",
    "y = data['yield']\n",
    "\n",
    "# 拆分數據集\n",
    "X_train, X_test, y_train, y_test = train_test_split(X, y, test_size=0.2, random_state=42)"
   ]
  },
  {
   "cell_type": "code",
   "execution_count": null,
   "metadata": {},
   "outputs": [],
   "source": [
    "# 2. 訓練模型\n",
    "# 使用線性回歸模型來擬合生產參數和良率之間的關係。\n",
    "\n",
    "from sklearn.linear_model import LinearRegression\n",
    "\n",
    "# 初始化線性回歸模型\n",
    "model = LinearRegression() ##\n",
    "\n",
    "# 訓練模型\n",
    "model.fit(X_train, y_train)"
   ]
  },
  {
   "cell_type": "code",
   "execution_count": null,
   "metadata": {},
   "outputs": [],
   "source": [
    "# 3. 模型評估與參數影響分析\n",
    "# 使用均方誤差（MSE）評估模型的預測效果，並分析各參數的影響。\n",
    "\n",
    "from sklearn.metrics import mean_squared_error\n",
    "\n",
    "# 預測\n",
    "y_pred = model.predict(X_test)\n",
    "\n",
    "# 計算均方誤差\n",
    "mse = mean_squared_error(y_test, y_pred)\n",
    "print(\"Mean Squared Error:\", mse)\n",
    "\n",
    "# 查看各工藝參數的權重（係數）\n",
    "print(\"Model coefficients:\", model.coef_) ##\n"
   ]
  },
  {
   "cell_type": "code",
   "execution_count": null,
   "metadata": {},
   "outputs": [],
   "source": [
    "# 4. 找到最佳參數組合\n",
    "# 通過模型找到工藝參數的最佳組合，以最大化良率或最小化缺陷率。\n",
    "\n",
    "import numpy as np\n",
    "\n",
    "# 根據模型係數和數據範圍生成參數組合進行測試\n",
    "param_grid = np.array([[param1, param2, param3] for param1 in range(1, 10) for param2 in range(1, 10) for param3 in range(1, 10)]) ##\n",
    "\n",
    "# 預測每組參數的良率\n",
    "yields = model.predict(param_grid) ##\n",
    "# predict 方法用於讓模型對新數據進行預測。\n",
    "\n",
    "# 找到最大良率的參數組合\n",
    "best_params = param_grid[np.argmax(yields)] ##\n",
    "print(\"Best parameters for maximum yield:\", best_params)\n",
    "# param_grid 是網格搜索（Grid Search）中的參數選擇範圍，用來指定一組參數的候選值，從而讓模型自動測試每種組合的效果。\n",
    "# argmax 是用於找到最大值的索引的函數，用於確定概率分佈中最可能的類別。\n"
   ]
  }
 ],
 "metadata": {
  "kernelspec": {
   "display_name": "Python 3",
   "language": "python",
   "name": "python3"
  },
  "language_info": {
   "codemirror_mode": {
    "name": "ipython",
    "version": 3
   },
   "file_extension": ".py",
   "mimetype": "text/x-python",
   "name": "python",
   "nbconvert_exporter": "python",
   "pygments_lexer": "ipython3",
   "version": "3.11.2"
  }
 },
 "nbformat": 4,
 "nbformat_minor": 2
}
