{
 "cells": [
  {
   "cell_type": "code",
   "execution_count": null,
   "metadata": {},
   "outputs": [],
   "source": [
    "# 題：良率預測模型\n",
    "# 使用 Scikit-Learn 的回歸模型來預測未來的生產良率。\n",
    "# 1. 數據準備與導入。\n",
    "\n",
    "import pandas as pd\n",
    "from sklearn.model_selection import train_test_split\n",
    "\n",
    "# 導入數據\n",
    "data = pd.read_csv('production_data.csv')\n",
    "\n",
    "# 選擇工藝參數作為特徵，良率作為目標\n",
    "X = data[['param1', 'param2', 'param3']]  # 假設 'param1', 'param2', 'param3' 是影響良率的工藝參數\n",
    "y = data['yield']  # 假設 'yield' 是目標良率\n",
    "\n",
    "# 拆分數據集為訓練集和測試集\n",
    "X_train, X_test, y_train, y_test = train_test_split(X, y, test_size=0.2, random_state=42) ##\n",
    "# test_size 用於設定測試集的比例，0.2 表示將數據集的 20% 作為測試集，其餘 80% 作為訓練集。\n",
    "# random_state 用於控制隨機性，確保每次運行得到相同的數據集拆分結果。\n",
    "# X_train：訓練集的特徵數據，用於訓練模型。\n",
    "# X_test：測試集的特徵數據，用於評估模型。\n",
    "# y_train：訓練集的目標數據（標籤），與 X_train 對應。\n",
    "# y_test：測試集的目標數據（標籤），與 X_test 對應。\n",
    "# 舉例：\n",
    "   # 如果 X 有 1000 行數據，則 X_train 會有 800 行數據，X_test 會有 200 行數據。\n",
    "   # 對應的 y_train 和 y_test 也會有 800 和 200 行數據，保持與 X_train 和 X_test 行數一致。"
   ]
  },
  {
   "cell_type": "code",
   "execution_count": null,
   "metadata": {},
   "outputs": [],
   "source": [
    "# 2. 訓練模型\n",
    "# 使用隨機森林回歸器進行模型訓練。\n",
    "\n",
    "from sklearn.ensemble import RandomForestRegressor\n",
    "\n",
    "# 初始化隨機森林回歸器\n",
    "model = RandomForestRegressor() ##\n",
    "\n",
    "# 訓練模型\n",
    "model.fit(X_train, y_train) ##"
   ]
  },
  {
   "cell_type": "code",
   "execution_count": null,
   "metadata": {},
   "outputs": [],
   "source": [
    "# 3. 模型評估\n",
    "# 使用均方誤差（MSE）來評估模型的預測效果。\n",
    "\n",
    "from sklearn.metrics import mean_squared_error\n",
    "\n",
    "# 使用測試集進行預測\n",
    "y_pred = model.predict(X_test) ##\n",
    "\n",
    "# 計算均方誤差\n",
    "mse = mean_squared_error(y_test, y_pred) ##\n",
    "print(\"Mean Squared Error:\", mse)\n",
    "# 如果模型預測準確，y_pred 和 y_test 之間的誤差會很小；如果模型預測不準確，誤差會較大。"
   ]
  },
  {
   "cell_type": "code",
   "execution_count": null,
   "metadata": {},
   "outputs": [],
   "source": [
    "# 4. 保存模型\n",
    "# 使用 joblib 庫將模型保存，以便將來使用。\n",
    "\n",
    "import joblib\n",
    "\n",
    "# 保存模型到文件\n",
    "joblib.dump(model, 'yield_prediction_model.pkl') ##\n",
    "# joblib.dump() 主要用於傳統的機器學習模型 (如 Scikit-Learn) 的儲存。\n"
   ]
  }
 ],
 "metadata": {
  "language_info": {
   "name": "python"
  }
 },
 "nbformat": 4,
 "nbformat_minor": 2
}
