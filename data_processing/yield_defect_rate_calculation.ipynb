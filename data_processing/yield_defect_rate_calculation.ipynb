{
 "cells": [
  {
   "cell_type": "code",
   "execution_count": null,
   "metadata": {},
   "outputs": [],
   "source": [
    "# 題：良率和缺陷率計算\n",
    "# 1. 導入庫和數據\n",
    "# 使用 Pandas 將數據文件（如 Excel 或 CSV 文件）導入 Python。\n",
    "\n",
    "import pandas as pd\n",
    "\n",
    "# 將數據從 CSV 文件讀入 DataFrame\n",
    "data = pd.read_csv('production_data.csv')\n",
    "# 或者從 Excel 文件導入\n",
    "# data = pd.read_excel('production_data.xlsx')"
   ]
  },
  {
   "cell_type": "code",
   "execution_count": null,
   "metadata": {},
   "outputs": [],
   "source": [
    "# 2. 計算良率和缺陷率\n",
    "# 假設數據中有兩列：TotalProduced（總生產數量）和 TotalGood（合格品數量）。\n",
    "# 根據這些列計算每批次的良率和缺陷率。\n",
    "\n",
    "# 計算良率\n",
    "data['YieldRate'] = data['TotalGood'] / data['TotalProduced']\n",
    "\n",
    "# 計算缺陷率\n",
    "data['DefectRate'] = 1 - data['YieldRate']"
   ]
  },
  {
   "cell_type": "code",
   "execution_count": null,
   "metadata": {},
   "outputs": [],
   "source": [
    "# 3. 數據清洗\n",
    "# 去除缺失值和異常值，以確保數據的準確性。\n",
    "\n",
    "# 去除包含缺失值的行\n",
    "data.dropna(inplace=True) ##\n",
    "# dropna()：刪除 DataFrame 中包含 NaN 的行或列。\n",
    "# inplace=True：這個參數表示直接在原 DataFrame 上進行操作，而不是返回一個新的 DataFrame。\n",
    "\n",
    "# 去除異常值，例如只篩選 總生產數為 0 或良率超過 100% 的資料\n",
    "data = data[(data['TotalProduced'] > 0) & (data['YieldRate'] <= 1)] ##"
   ]
  },
  {
   "cell_type": "code",
   "execution_count": null,
   "metadata": {},
   "outputs": [],
   "source": [
    "# 4. 生成數據表格\n",
    "# 將計算結果輸出到新文件中，以備後續分析。\n",
    "\n",
    "# 將結果保存為新的 CSV 文件\n",
    "data.to_csv('processed_production_data.csv', index=False)\n",
    "# index=False：不保存 DataFrame 的索引列。預設為 true。"
   ]
  }
 ],
 "metadata": {
  "language_info": {
   "name": "python"
  }
 },
 "nbformat": 4,
 "nbformat_minor": 2
}
