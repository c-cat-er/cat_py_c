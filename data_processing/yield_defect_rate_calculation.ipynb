{
 "cells": [
  {
   "cell_type": "code",
   "execution_count": 12,
   "metadata": {},
   "outputs": [
    {
     "name": "stdout",
     "output_type": "stream",
     "text": [
      "Initial Data:\n",
      "   BatchID  TotalProduced  TotalGood  DefectCount\n",
      "0        1           1000        980           20\n",
      "1        2           1200       1190           10\n",
      "2        3            800        780           20\n",
      "3        4           1500       1490           10\n",
      "4        5              0          0            0\n"
     ]
    }
   ],
   "source": [
    "# 題：良率和缺陷率計算\n",
    "# 1. 導入庫和數據\n",
    "# 使用 Pandas 將數據文件（如 Excel 或 CSV 文件）導入 Python。\n",
    "\n",
    "import pandas as pd\n",
    "\n",
    "data = pd.DataFrame({\n",
    "    'BatchID': [1, 2, 3, 4, 5],\n",
    "    'TotalProduced': [1000, 1200, 800, 1500, 0],  # 假設數據中包含一個總生產數量為0的異常值\n",
    "    'TotalGood': [980, 1190, 780, 1490, 0],  # 其中有一批的合格品數量為0\n",
    "    'DefectCount': [20, 10, 20, 10, 0]  # 對應缺陷數量\n",
    "})\n",
    "\n",
    "# 或從 CSV 文件讀入 DataFrame\n",
    "# data = pd.read_csv('production_data.csv')\n",
    "# 或從 Excel 文件導入\n",
    "# data = pd.read_excel('production_data.xlsx')\n",
    "\n",
    "print(\"Initial Data:\")\n",
    "print(data)"
   ]
  },
  {
   "cell_type": "code",
   "execution_count": 13,
   "metadata": {},
   "outputs": [],
   "source": [
    "# 2. 計算良率和缺陷率\n",
    "# 假設數據中有兩列：TotalProduced（總生產數量）和 TotalGood（合格品數量）。\n",
    "# 根據這些列計算每批次的良率和缺陷率。\n",
    "\n",
    "# 計算良率\n",
    "data['YieldRate'] = data['TotalGood'] / data['TotalProduced']\n",
    "\n",
    "# 計算缺陷率\n",
    "data['DefectRate'] = 1 - data['YieldRate']"
   ]
  },
  {
   "cell_type": "code",
   "execution_count": 14,
   "metadata": {},
   "outputs": [],
   "source": [
    "# 3. 數據清洗\n",
    "# 去除缺失值和異常值，以確保數據的準確性。\n",
    "\n",
    "# 去除包含缺失值的行\n",
    "data.dropna(inplace=True) ##\n",
    "# dropna()：刪除 DataFrame 中包含 NaN 的行或列。\n",
    "# inplace=True：這個參數表示直接在原 DataFrame 上進行操作，而不是返回一個新的 DataFrame。\n",
    "\n",
    "# 去除異常值，例如只篩選 總生產數為 0 或良率超過 100% 的資料\n",
    "data = data[(data['TotalProduced'] > 0) & (data['YieldRate'] <= 1)] ##"
   ]
  },
  {
   "cell_type": "code",
   "execution_count": 15,
   "metadata": {},
   "outputs": [
    {
     "name": "stdout",
     "output_type": "stream",
     "text": [
      "\n",
      "Processed Data:\n",
      "   BatchID  TotalProduced  TotalGood  DefectCount  YieldRate  DefectRate\n",
      "0        1           1000        980           20   0.980000    0.020000\n",
      "1        2           1200       1190           10   0.991667    0.008333\n",
      "2        3            800        780           20   0.975000    0.025000\n",
      "3        4           1500       1490           10   0.993333    0.006667\n"
     ]
    }
   ],
   "source": [
    "# 4. 生成數據表格\n",
    "# 將計算結果輸出到新文件中，以備後續分析。\n",
    "\n",
    "# 將結果保存為新的 CSV 文件\n",
    "data.to_csv('processed_production_data.csv', index=False)\n",
    "# index=False：不保存 DataFrame 的索引列。預設為 true。\n",
    "\n",
    "print(\"\\nProcessed Data:\")\n",
    "print(data)"
   ]
  }
 ],
 "metadata": {
  "kernelspec": {
   "display_name": "Python 3",
   "language": "python",
   "name": "python3"
  },
  "language_info": {
   "codemirror_mode": {
    "name": "ipython",
    "version": 3
   },
   "file_extension": ".py",
   "mimetype": "text/x-python",
   "name": "python",
   "nbconvert_exporter": "python",
   "pygments_lexer": "ipython3",
   "version": "3.11.2"
  }
 },
 "nbformat": 4,
 "nbformat_minor": 2
}
