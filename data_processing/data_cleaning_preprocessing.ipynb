{
 "cells": [
  {
   "cell_type": "code",
   "execution_count": null,
   "metadata": {},
   "outputs": [],
   "source": [
    "# 題：數據清洗與預處理\n",
    "# 1. 去除異常值\n",
    "# 異常值可能包括極端數據或超出合理範圍的值。使用 Pandas 過濾數據。\n",
    "\n",
    "# 假設某些參數列中，合理的數值範圍在 [lower_bound, upper_bound] 之間\n",
    "lower_bound, upper_bound = 0.1, 0.9\n",
    "data = data[(data['Parameter1'] >= lower_bound) & (data['Parameter1'] <= upper_bound)]"
   ]
  },
  {
   "cell_type": "code",
   "execution_count": null,
   "metadata": {},
   "outputs": [],
   "source": [
    "# 2. 去除冗餘信息\n",
    "# 刪除無用的列，以簡化數據結構。\n",
    "\n",
    "# 假設 `UnusedColumn` 是不必要的\n",
    "data.drop(columns=['UnusedColumn'], inplace=True)\n",
    "# drop()：刪除 DataFrame 中的行或列。 ##\n",
    "   # 刪除行：指定 index 參數，並將要刪除的行索引或條件傳入。\n",
    "   # 刪除列：指定 columns 參數，並將要刪除的列名稱作為列表傳入。"
   ]
  }
 ],
 "metadata": {
  "kernelspec": {
   "display_name": "Python 3",
   "language": "python",
   "name": "python3"
  },
  "language_info": {
   "codemirror_mode": {
    "name": "ipython",
    "version": 3
   },
   "file_extension": ".py",
   "mimetype": "text/x-python",
   "name": "python",
   "nbconvert_exporter": "python",
   "pygments_lexer": "ipython3",
   "version": "3.11.2"
  }
 },
 "nbformat": 4,
 "nbformat_minor": 2
}
