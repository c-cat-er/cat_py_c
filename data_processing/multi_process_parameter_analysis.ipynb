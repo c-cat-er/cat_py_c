{
 "cells": [
  {
   "cell_type": "code",
   "execution_count": null,
   "metadata": {},
   "outputs": [],
   "source": [
    "# 題：多工藝參數分析\n",
    "# 1. 使用 NumPy 進行矩陣運算\n",
    "# 將多個工藝參數轉換為矩陣格式，然後進行運算分析。\n",
    "\n",
    "import numpy as np\n",
    "\n",
    "# 假設有多個工藝參數列需要分析，轉為陣列\n",
    "parameters = data[['Parameter1', 'Parameter2', 'Parameter3']].values\n",
    "\n",
    "# 計算每列的平均值，表示工藝對良率的影響\n",
    "parameter_means = np.mean(parameters, axis=0)\n",
    "print(\"Parameter Means:\", parameter_means)\n",
    "   # axis=0：沿著「列」方向進行操作，即對每一(直)行進行計算。##\n",
    "   # axis=1：沿著「行」方向進行操作，即對每一(橫)列進行計算。##\n",
    "\n"
   ]
  },
  {
   "cell_type": "code",
   "execution_count": null,
   "metadata": {},
   "outputs": [],
   "source": [
    "# 2. 分析各參數對良率的影響\n",
    "# 通過計算相關係數或進行回歸分析，找出每個參數對良率的影響。\n",
    "\n",
    "# 計算工藝參數與良率之間的相關係數\n",
    "correlations = data[['YieldRate', 'Parameter1', 'Parameter2', 'Parameter3']].corr()\n",
    "print(\"Correlation with YieldRate:\\n\", correlations['YieldRate'])\n",
    "# corr()：計算數據框中各列之間的 相關係數。##\n",
    "# 相關係數用來衡量兩個變量之間的線性相關性，取值範圍在 -1 到 1 之間：\n",
    "   #  1：完全正相關，一個變量增加，另一個變量也隨之增加。\n",
    "   # -1：完全負相關，一個變量增加，另一個變量則減少。\n",
    "   #  0：無相關，兩個變量之間沒有線性關係。"
   ]
  }
 ],
 "metadata": {
  "kernelspec": {
   "display_name": "Python 3",
   "language": "python",
   "name": "python3"
  },
  "language_info": {
   "codemirror_mode": {
    "name": "ipython",
    "version": 3
   },
   "file_extension": ".py",
   "mimetype": "text/x-python",
   "name": "python",
   "nbconvert_exporter": "python",
   "pygments_lexer": "ipython3",
   "version": "3.11.2"
  }
 },
 "nbformat": 4,
 "nbformat_minor": 2
}
