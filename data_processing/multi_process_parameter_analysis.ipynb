{
 "cells": [
  {
   "cell_type": "code",
   "execution_count": 17,
   "metadata": {},
   "outputs": [
    {
     "name": "stdout",
     "output_type": "stream",
     "text": [
      "Parameter Means: [0.66 0.8  0.83]\n"
     ]
    }
   ],
   "source": [
    "# 題：多工藝參數分析\n",
    "# 1. 使用 NumPy 進行矩陣運算\n",
    "# 將多個工藝參數轉換為矩陣格式，然後進行運算分析。\n",
    "\n",
    "import pandas as pd\n",
    "import numpy as np\n",
    "\n",
    "data = pd.DataFrame({\n",
    "    'BatchID': [1, 2, 3, 4, 5],\n",
    "    'Parameter1': [0.7, 0.6, 0.8, 0.5, 0.7],\n",
    "    'Parameter2': [0.8, 0.85, 0.7, 0.9, 0.75],\n",
    "    'Parameter3': [0.9, 0.75, 0.85, 0.8, 0.85],\n",
    "    'YieldRate': [0.95, 0.93, 0.96, 0.90, 0.92]\n",
    "})\n",
    "\n",
    "# 假設有多個工藝參數列需要分析，轉為陣列\n",
    "parameters = data[['Parameter1', 'Parameter2', 'Parameter3']].values\n",
    "\n",
    "# 計算每列的平均值，表示工藝對良率的影響\n",
    "parameter_means = np.mean(parameters, axis=0)\n",
    "print(\"Parameter Means:\", parameter_means)\n",
    "   # axis=0：沿著「列」方向進行操作，即對每一(直)行進行計算。##\n",
    "   # axis=1：沿著「行」方向進行操作，即對每一(橫)列進行計算。##"
   ]
  },
  {
   "cell_type": "code",
   "execution_count": 18,
   "metadata": {},
   "outputs": [
    {
     "name": "stdout",
     "output_type": "stream",
     "text": [
      "Correlation with YieldRate:\n",
      " YieldRate     1.000000\n",
      "Parameter1    0.863294\n",
      "Parameter2   -0.728493\n",
      "Parameter3    0.495935\n",
      "Name: YieldRate, dtype: float64\n"
     ]
    }
   ],
   "source": [
    "# 2. 分析各參數對良率的影響\n",
    "# 通過計算相關係數或進行回歸分析，找出每個參數對良率的影響 (相關係數)。\n",
    "\n",
    "# 計算工藝參數與良率之間的相關係數\n",
    "correlations = data[['YieldRate', 'Parameter1', 'Parameter2', 'Parameter3']].corr() ##\n",
    "print(\"Correlation with YieldRate:\\n\", correlations['YieldRate'])\n",
    "# corr()：計算數據框中各列之間的 相關係數。##\n",
    "# 相關係數用來衡量兩個變量之間的線性相關性，取值範圍在 -1 到 1 之間：\n",
    "   #  1：完全正相關，一個變量增加，另一個變量也隨之增加。\n",
    "   # -1：完全負相關，一個變量增加，另一個變量則減少。\n",
    "   #  0：無相關，兩個變量之間沒有線性關係。"
   ]
  },
  {
   "cell_type": "code",
   "execution_count": 19,
   "metadata": {},
   "outputs": [
    {
     "name": "stdout",
     "output_type": "stream",
     "text": [
      "Optimal Parameters: [1. 1. 1.]\n",
      "Maximum YieldRate: 1.0\n"
     ]
    }
   ],
   "source": [
    "# 3. 優化分析\n",
    "# 將良率與這些工藝參數進行回歸分析，並使用最小化或最大化策略來找到最佳參數配置，如 最大化良率。\n",
    "\n",
    "from scipy.optimize import minimize\n",
    "\n",
    "# 定義目標函數：我們希望最大化良率（這裡簡單起見，我們假設良率和工藝參數之間有線性關係）\n",
    "def objective(params):\n",
    "    # 假設良率 = 0.3 * Parameter1 + 0.3 * Parameter2 + 0.4 * Parameter3\n",
    "    yield_rate = 0.3 * params[0] + 0.3 * params[1] + 0.4 * params[2]\n",
    "    return -yield_rate  # 使用負號使得最小化過程實現最大化良率\n",
    "\n",
    "# 初始猜測參數值\n",
    "initial_guess = [0.7, 0.8, 0.85]  # 初始假設工藝參數\n",
    "\n",
    "# 約束條件：工藝參數應該在合理範圍內\n",
    "bounds = [(0.1, 1), (0.1, 1), (0.1, 1)]  # 假設每個工藝參數的範圍在 0.1 到 1 之間\n",
    "\n",
    "# 執行優化\n",
    "result = minimize(objective, initial_guess, bounds=bounds)\n",
    "\n",
    "# 顯示最優參數和最大化的良率\n",
    "optimal_params = result.x\n",
    "optimal_yield_rate = -result.fun  # 記得將結果取反\n",
    "print(\"Optimal Parameters:\", optimal_params)\n",
    "print(\"Maximum YieldRate:\", optimal_yield_rate)"
   ]
  }
 ],
 "metadata": {
  "kernelspec": {
   "display_name": "Python 3",
   "language": "python",
   "name": "python3"
  },
  "language_info": {
   "codemirror_mode": {
    "name": "ipython",
    "version": 3
   },
   "file_extension": ".py",
   "mimetype": "text/x-python",
   "name": "python",
   "nbconvert_exporter": "python",
   "pygments_lexer": "ipython3",
   "version": "3.11.2"
  }
 },
 "nbformat": 4,
 "nbformat_minor": 2
}
