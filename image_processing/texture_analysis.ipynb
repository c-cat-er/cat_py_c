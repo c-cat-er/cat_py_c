{
 "cells": [
  {
   "cell_type": "code",
   "execution_count": 1,
   "metadata": {},
   "outputs": [],
   "source": [
    "# 題：晶片表面紋理分析\n",
    "# 1. 讀取影像\n",
    "# 讀取晶片表面的影像，用於紋理分析。\n",
    "\n",
    "import cv2\n",
    "image = cv2.imread('images/defect1.jpg', cv2.IMREAD_GRAYSCALE)"
   ]
  },
  {
   "cell_type": "code",
   "execution_count": null,
   "metadata": {},
   "outputs": [],
   "source": [
    "# 2. 紋理特徵提取\n",
    "# 使用灰度共生矩陣 (GLCM) 提取紋理特徵。\n",
    "\n",
    "from skimage.feature import greycomatrix, greycoprops # pip install scikit-image\n",
    "\n",
    "glcm = greycomatrix(image, distances=[5], angles=[0], levels=256, symmetric=True, normed=True)\n",
    "contrast = greycoprops(glcm, 'contrast')[0, 0]\n",
    "dissimilarity = greycoprops(glcm, 'dissimilarity')[0, 0]\n",
    "print(f'Contrast: {contrast}, Dissimilarity: {dissimilarity}')"
   ]
  },
  {
   "cell_type": "code",
   "execution_count": null,
   "metadata": {},
   "outputs": [],
   "source": [
    "# 3. 紋理異常檢測\n",
    "# 根據提取的特徵進行異常分析，檢測是否存在異常紋理。\n",
    "\n",
    "if contrast > threshold or dissimilarity > threshold:\n",
    "    print('Detected abnormal texture on the surface.')\n",
    "else:\n",
    "    print('Surface texture is normal.')"
   ]
  }
 ],
 "metadata": {
  "kernelspec": {
   "display_name": "Python 3",
   "language": "python",
   "name": "python3"
  },
  "language_info": {
   "codemirror_mode": {
    "name": "ipython",
    "version": 3
   },
   "file_extension": ".py",
   "mimetype": "text/x-python",
   "name": "python",
   "nbconvert_exporter": "python",
   "pygments_lexer": "ipython3",
   "version": "3.11.2"
  }
 },
 "nbformat": 4,
 "nbformat_minor": 2
}
