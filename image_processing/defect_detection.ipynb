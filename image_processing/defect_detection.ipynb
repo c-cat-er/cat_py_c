{
 "cells": [
  {
   "cell_type": "code",
   "execution_count": 1,
   "metadata": {},
   "outputs": [],
   "source": [
    "# 題：缺陷檢測\n",
    "# 1. 讀取影像\n",
    "# 使用 OpenCV 讀取晶片或元件的影像。\n",
    "\n",
    "import cv2\n",
    "\n",
    "image = cv2.imread('images/defect1.jfif', cv2.IMREAD_GRAYSCALE) ##\n",
    "# imread 函數可以將影像從檔案中讀取到 OpenCV 中，並以陣列形式存儲在變數中。 \n",
    "# cv2.IMREAD_GRAYSCALE 是一個 imread 函數的標誌（flag），表示讀取影像時將其轉換為灰階模式。\n",
    "# 使用灰階模式可以節省內存並加快處理速度。"
   ]
  },
  {
   "cell_type": "code",
   "execution_count": 2,
   "metadata": {},
   "outputs": [],
   "source": [
    "# 2. 邊緣檢測\n",
    "# 使用 Canny 邊緣檢測識別影像中的邊緣，協助檢測缺陷。\n",
    "\n",
    "if image is None:\n",
    "    print(\"Error: Could not load image. Please check the file path.\")\n",
    "else:\n",
    "     # 二值化影像以更清晰分離缺陷\n",
    "    _, binary = cv2.threshold(image, 127, 255, cv2.THRESH_BINARY_INV)  # 反向二值化\n",
    "\n",
    "    # 使用 Canny 邊緣檢測\n",
    "    edges = cv2.Canny(binary, threshold1=50, threshold2=150)\n",
    "# Canny 是 OpenCV 的 Canny 邊緣檢測函數，用於檢測影像中的邊緣。\n",
    "# threshold1 和 threshold2：這兩個是低閾值和高閾值。\n",
    "   # 邊緣檢測時，如果像素梯度大於 threshold2，則被認為是邊緣。\n",
    "   # 如果小於 threshold1，則被忽略。\n",
    "   # 而介於兩者之間的像素，只有當它連接到高於 threshold2 的邊緣像素時，才會被認為是邊緣。\n",
    "# imshow 用於顯示影像新視窗，Edges 為視窗名。\n",
    "# cv2.IMREAD_GRAYSCALE 指定以灰階模式加載圖像。\n",
    "# waitKey 函數可以設定等待多少毫秒的按鍵輸入，如果設置為 0，則無限等待按鍵輸入。"
   ]
  },
  {
   "cell_type": "code",
   "execution_count": 3,
   "metadata": {},
   "outputs": [],
   "source": [
    "# 3. 輪廓檢測\n",
    "# 使用 OpenCV 的 findContours 函數檢測影像中的輪廓。\n",
    "\n",
    "# 檢測輪廓\n",
    "contours, _ = cv2.findContours(edges, cv2.RETR_EXTERNAL, cv2.CHAIN_APPROX_SIMPLE)\n",
    "\n",
    "# findContours 用於檢測輪廓。\n",
    "   # cv2.RETR_EXTERNAL：僅檢測外部輪廓，不包含嵌套輪廓（例如內部孔洞）。\n",
    "   # cv2.CHAIN_APPROX_SIMPLE：壓縮輪廓點，只保留輪廓的必要點，減少記憶體使用。\n",
    "   # contours 是從影像中檢測到的輪廓列表，每個輪廓都是一系列點的集合。\n",
    "   # _ 是第二個返回值（階層資訊），在這裡我們不需要它，所以用 _ 忽略。"
   ]
  },
  {
   "cell_type": "code",
   "execution_count": null,
   "metadata": {},
   "outputs": [
    {
     "data": {
      "text/plain": [
       "-1"
      ]
     },
     "execution_count": 5,
     "metadata": {},
     "output_type": "execute_result"
    },
    {
     "ename": "",
     "evalue": "",
     "output_type": "error",
     "traceback": [
      "\u001b[1;31m在目前儲存格或上一個儲存格中執行程式碼時，Kernel 已損毀。\n",
      "\u001b[1;31m請檢閱儲存格中的程式碼，找出失敗的可能原因。\n",
      "\u001b[1;31m如需詳細資訊，請按一下<a href='https://aka.ms/vscodeJupyterKernelCrash'>這裡</a>。\n",
      "\u001b[1;31m如需詳細資料，請檢視 Jupyter <a href='command:jupyter.viewOutput'>記錄</a>。"
     ]
    }
   ],
   "source": [
    "# 4. 繪製和分析輪廓\n",
    "# 在原始影像上繪製輪廓，並檢查是否有異常的形狀或大小。\n",
    "\n",
    "# 初始化輸出影像\n",
    "\n",
    "output = image.copy()\n",
    "    \n",
    "# 過濾輪廓並僅保留較大或不規則的輪廓\n",
    "for contour in contours:\n",
    "    area = cv2.contourArea(contour)\n",
    "    if area > 100:  # 設置一個面積閾值，過濾掉小面積的輪廓\n",
    "        cv2.drawContours(output, [contour], -1, (255, 0, 0), 2)  # 畫出大輪廓\n",
    "\n",
    "# 顯示結果\n",
    "cv2.imshow('Original Image', image)\n",
    "cv2.imshow('Binary Image', binary)\n",
    "cv2.imshow('Edges', edges)\n",
    "cv2.imshow('Filtered Contours', output)\n",
    "cv2.waitKey(1000)\n",
    "\n",
    "# drawContours() 畫出所有輪廓。在此是畫在 output 影像上。\n",
    "   # -1 表示畫出所有輪廓。\n",
    "   # (255, 0, 0) 指定輪廓的顏色（紅色）。\n",
    "   # 2 表示輪廓線條的粗細。"
   ]
  }
 ],
 "metadata": {
  "kernelspec": {
   "display_name": "Python 3",
   "language": "python",
   "name": "python3"
  },
  "language_info": {
   "codemirror_mode": {
    "name": "ipython",
    "version": 3
   },
   "file_extension": ".py",
   "mimetype": "text/x-python",
   "name": "python",
   "nbconvert_exporter": "python",
   "pygments_lexer": "ipython3",
   "version": "3.11.2"
  }
 },
 "nbformat": 4,
 "nbformat_minor": 2
}
