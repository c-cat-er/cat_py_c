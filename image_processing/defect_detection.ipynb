{
 "cells": [
  {
   "cell_type": "code",
   "execution_count": null,
   "metadata": {},
   "outputs": [],
   "source": [
    "# 題：缺陷檢測\n",
    "# 1. 讀取影像\n",
    "# 使用 OpenCV 讀取晶片或元件的影像。\n",
    "\n",
    "import cv2\n",
    "\n",
    "image = cv2.imread('chip_image.png', cv2.IMREAD_GRAYSCALE) ##\n",
    "# imread 函數可以將影像從檔案中讀取到 OpenCV 中，並以陣列形式存儲在變數中。 \n",
    "# cv2.IMREAD_GRAYSCALE 是一個 imread 函數的標誌（flag），表示讀取影像時將其轉換為灰階模式。\n",
    "# 使用灰階模式可以節省內存並加快處理速度。"
   ]
  },
  {
   "cell_type": "code",
   "execution_count": null,
   "metadata": {},
   "outputs": [],
   "source": [
    "# 2. 邊緣檢測\n",
    "# 使用 Canny 邊緣檢測識別影像中的邊緣，協助檢測缺陷。\n",
    "\n",
    "edges = cv2.Canny(image, threshold1=50, threshold2=150) ##\n",
    "cv2.imshow('Edges', edges)\n",
    "cv2.waitKey(0)\n",
    "# Canny 是 OpenCV 的 Canny 邊緣檢測函數，用於檢測影像中的邊緣。\n",
    "# threshold1 和 threshold2：這兩個是低閾值和高閾值。\n",
    "   # 邊緣檢測時，如果像素梯度大於 threshold2，則被認為是邊緣。\n",
    "   # 如果小於 threshold1，則被忽略。\n",
    "   # 而介於兩者之間的像素，只有當它連接到高於 threshold2 的邊緣像素時，才會被認為是邊緣。\n",
    "# imshow 用於顯示影像新視窗，Edges 為視窗名。\n",
    "# waitKey 函數可以設定等待多少毫秒的按鍵輸入，如果設置為 0，則無限等待按鍵輸入。"
   ]
  },
  {
   "cell_type": "code",
   "execution_count": null,
   "metadata": {},
   "outputs": [],
   "source": [
    "# 3. 輪廓檢測\n",
    "# 使用 OpenCV 的 findContours 函數檢測影像中的輪廓。\n",
    "\n",
    "contours, _ = cv2.findContours(edges, cv2.RETR_EXTERNAL, cv2.CHAIN_APPROX_SIMPLE)\n",
    "# findContours 用於檢測輪廓。\n",
    "   # cv2.RETR_EXTERNAL：僅檢測外部輪廓，不包含嵌套輪廓（例如內部孔洞）。\n",
    "   # cv2.CHAIN_APPROX_SIMPLE：壓縮輪廓點，只保留輪廓的必要點，減少記憶體使用。\n",
    "   # contours 是從影像中檢測到的輪廓列表，每個輪廓都是一系列點的集合。\n",
    "   # _ 是第二個返回值（階層資訊），在這裡我們不需要它，所以用 _ 忽略。"
   ]
  },
  {
   "cell_type": "code",
   "execution_count": null,
   "metadata": {},
   "outputs": [],
   "source": [
    "# 4. 繪製和分析輪廓\n",
    "# 在原始影像上繪製輪廓，並檢查是否有異常的形狀或大小。\n",
    "\n",
    "output = image.copy()\n",
    "cv2.drawContours(output, contours, -1, (255, 0, 0), 2) ##\n",
    "cv2.imshow('Contours', output)\n",
    "cv2.waitKey(0)\n",
    "\n",
    "# drawContours() 畫出所有輪廓。在此是畫在 output 影像上。\n",
    "   # -1 表示畫出所有輪廓。\n",
    "   # (255, 0, 0) 指定輪廓的顏色（紅色）。\n",
    "   # 2 表示輪廓線條的粗細。"
   ]
  }
 ],
 "metadata": {
  "kernelspec": {
   "display_name": "Python 3",
   "language": "python",
   "name": "python3"
  },
  "language_info": {
   "codemirror_mode": {
    "name": "ipython",
    "version": 3
   },
   "file_extension": ".py",
   "mimetype": "text/x-python",
   "name": "python",
   "nbconvert_exporter": "python",
   "pygments_lexer": "ipython3",
   "version": "3.11.2"
  }
 },
 "nbformat": 4,
 "nbformat_minor": 2
}
