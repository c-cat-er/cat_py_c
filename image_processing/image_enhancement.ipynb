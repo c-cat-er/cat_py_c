{
 "cells": [
  {
   "cell_type": "code",
   "execution_count": null,
   "metadata": {},
   "outputs": [],
   "source": [
    "# 題：影像增強與預處理\n",
    "# 1. 去噪\n",
    "# 使用高斯濾波器進行去噪處理，以提高影像的清晰度。\n",
    "\n",
    "blurred = cv2.GaussianBlur(image, (5, 5), 0)"
   ]
  },
  {
   "cell_type": "code",
   "execution_count": null,
   "metadata": {},
   "outputs": [],
   "source": [
    "# 2. 對比度增強\n",
    "# 使用 CLAHE (對比受限的自適應直方圖均衡) 增強對比度。\n",
    "\n",
    "clahe = cv2.createCLAHE(clipLimit=2.0, tileGridSize=(8, 8))\n",
    "enhanced_image = clahe.apply(blurred)\n",
    "cv2.imshow('Enhanced Image', enhanced_image)\n",
    "cv2.waitKey(0)"
   ]
  },
  {
   "cell_type": "code",
   "execution_count": null,
   "metadata": {},
   "outputs": [],
   "source": [
    "# 3. 背景去除\n",
    "# 使用自適應閾值進行背景去除。\n",
    "\n",
    "thresh = cv2.adaptiveThreshold(enhanced_image, 255, cv2.ADAPTIVE_THRESH_GAUSSIAN_C,\n",
    "                               cv2.THRESH_BINARY, 11, 2)\n",
    "cv2.imshow('Thresholded Image', thresh)\n",
    "cv2.waitKey(0)"
   ]
  }
 ],
 "metadata": {
  "language_info": {
   "name": "python"
  }
 },
 "nbformat": 4,
 "nbformat_minor": 2
}
