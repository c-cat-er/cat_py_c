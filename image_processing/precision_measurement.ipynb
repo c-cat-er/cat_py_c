{
 "cells": [
  {
   "cell_type": "code",
   "execution_count": 1,
   "metadata": {},
   "outputs": [],
   "source": [
    "# 尺寸測量與精密計量\n",
    "# 1. 設定比例\n",
    "# 根據影像中的已知參考物尺寸來設定比例（例如 1 像素等於多少微米）。\n",
    "\n",
    "scale = 0.1  # 1 像素 = 0.1 微米"
   ]
  },
  {
   "cell_type": "code",
   "execution_count": null,
   "metadata": {},
   "outputs": [],
   "source": [
    "# 2. 測量長度\n",
    "# 使用 cv2.arcLength 計算輪廓的周長，或 cv2.boundingRect 測量特徵尺寸。\n",
    "\n",
    "for contour in contours:\n",
    "    x, y, w, h = cv2.boundingRect(contour)\n",
    "    width = w * scale\n",
    "    height = h * scale\n",
    "    print(f'Width: {width} µm, Height: {height} µm')"
   ]
  },
  {
   "cell_type": "code",
   "execution_count": null,
   "metadata": {},
   "outputs": [],
   "source": [
    "# 3. 面積計算\n",
    "# 使用 cv2.contourArea 計算輪廓的面積。\n",
    "\n",
    "for contour in contours:\n",
    "    area = cv2.contourArea(contour) * scale**2\n",
    "    print(f'Area: {area} µm^2')"
   ]
  }
 ],
 "metadata": {
  "kernelspec": {
   "display_name": "Python 3",
   "language": "python",
   "name": "python3"
  },
  "language_info": {
   "codemirror_mode": {
    "name": "ipython",
    "version": 3
   },
   "file_extension": ".py",
   "mimetype": "text/x-python",
   "name": "python",
   "nbconvert_exporter": "python",
   "pygments_lexer": "ipython3",
   "version": "3.11.2"
  }
 },
 "nbformat": 4,
 "nbformat_minor": 2
}
