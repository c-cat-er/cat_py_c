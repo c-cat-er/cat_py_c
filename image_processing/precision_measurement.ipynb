{
 "cells": [
  {
   "cell_type": "code",
   "execution_count": null,
   "metadata": {},
   "outputs": [],
   "source": [
    "# 尺寸測量與精密計量\n",
    "# 1. 設定比例\n",
    "# 根據影像中的已知參考物尺寸來設定比例（例如 1 像素等於多少微米）。\n",
    "\n",
    "scale = 0.1  # 1 像素 = 0.1 微米"
   ]
  },
  {
   "cell_type": "code",
   "execution_count": null,
   "metadata": {},
   "outputs": [],
   "source": [
    "# 2. 測量長度\n",
    "# 使用 cv2.arcLength 計算輪廓的周長，或 cv2.boundingRect 測量特徵尺寸。\n",
    "\n",
    "for contour in contours:\n",
    "    x, y, w, h = cv2.boundingRect(contour)\n",
    "    width = w * scale\n",
    "    height = h * scale\n",
    "    print(f'Width: {width} µm, Height: {height} µm')"
   ]
  },
  {
   "cell_type": "code",
   "execution_count": null,
   "metadata": {},
   "outputs": [],
   "source": [
    "# 3. 面積計算\n",
    "# 使用 cv2.contourArea 計算輪廓的面積。\n",
    "\n",
    "for contour in contours:\n",
    "    area = cv2.contourArea(contour) * scale**2\n",
    "    print(f'Area: {area} µm^2')"
   ]
  }
 ],
 "metadata": {
  "language_info": {
   "name": "python"
  }
 },
 "nbformat": 4,
 "nbformat_minor": 2
}
