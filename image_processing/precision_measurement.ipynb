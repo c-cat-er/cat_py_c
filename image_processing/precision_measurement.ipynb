{
 "cells": [
  {
   "cell_type": "code",
   "execution_count": null,
   "metadata": {},
   "outputs": [],
   "source": [
    "# 尺寸測量與精密計量\n",
    "# 1. 設定比例\n",
    "# 根據影像中的已知參考物尺寸來設定比例（例如 1 像素等於多少微米）。\n",
    "\n",
    "import cv2\n",
    "\n",
    "# 假設您已經讀取了灰階或二值化的影像\n",
    "image = cv2.imread('images/tem-2.png', cv2.IMREAD_GRAYSCALE)\n",
    "\n",
    "# 二值化影像（如果尚未二值化）\n",
    "# 設閥值為 127，當像素值大於 127 時設為 255（白色），否則設為 0（黑色）。\n",
    "_, binary = cv2.threshold(image, 127, 255, cv2.THRESH_BINARY)\n",
    "\n",
    "# 找出輪廓\n",
    "contours, _ = cv2.findContours(binary, cv2.RETR_EXTERNAL, cv2.CHAIN_APPROX_SIMPLE)\n",
    "# cv2.RETR_EXTERNAL：只檢測外部輪廓。它會忽略內部輪廓，僅檢測最外層的輪廓，適合用於找出物體的外形輪廓。\n",
    "# cv2.CHAIN_APPROX_SIMPLE：只保留輪廓的必要點，從而減少記憶體使用。它會壓縮水平、垂直和對角線上的冗餘點，例如將矩形的輪廓表示為四個角點，而不是每一個邊上的所有點。\n",
    "\n",
    "# 設定比例\n",
    "scale = 0.1  # 1 像素等於 0.1 微米"
   ]
  },
  {
   "cell_type": "code",
   "execution_count": null,
   "metadata": {},
   "outputs": [],
   "source": [
    "# 2. 測量長度\n",
    "# 使用 cv2.arcLength 計算輪廓的周長，或 cv2.boundingRect 測量特徵尺寸。\n",
    "\n",
    "for contour in contours:\n",
    "    x, y, w, h = cv2.boundingRect(contour)\n",
    "    width = w * scale\n",
    "    height = h * scale\n",
    "    print(f'Width: {width:.2f} µm, Height: {height:.2f} µm')\n",
    "\n",
    "# x, y：矩形的左上角座標。\n",
    "# w：矩形的寬度。\n",
    "# h：矩形的高度。"
   ]
  },
  {
   "cell_type": "code",
   "execution_count": null,
   "metadata": {},
   "outputs": [],
   "source": [
    "# 3. 面積計算\n",
    "# 使用 cv2.contourArea 計算輪廓的面積。\n",
    "\n",
    "for contour in contours:\n",
    "    area = cv2.contourArea(contour) * scale**2\n",
    "    print(f'Area: {area:.2f} µm^2')\n",
    "\n",
    "# cv2.contourArea(contour) 計算輪廓的像素面積，即輪廓內部包含多少個像素。\n",
    "# scale**2 每個像素的比例單位的平方。"
   ]
  }
 ],
 "metadata": {
  "kernelspec": {
   "display_name": "Python 3",
   "language": "python",
   "name": "python3"
  },
  "language_info": {
   "codemirror_mode": {
    "name": "ipython",
    "version": 3
   },
   "file_extension": ".py",
   "mimetype": "text/x-python",
   "name": "python",
   "nbconvert_exporter": "python",
   "pygments_lexer": "ipython3",
   "version": "3.11.2"
  }
 },
 "nbformat": 4,
 "nbformat_minor": 2
}
